{
  "nbformat": 4,
  "nbformat_minor": 0,
  "metadata": {
    "kernelspec": {
      "display_name": "Python 3",
      "language": "python",
      "name": "python3"
    },
    "language_info": {
      "codemirror_mode": {
        "name": "ipython",
        "version": 3
      },
      "file_extension": ".py",
      "mimetype": "text/x-python",
      "name": "python",
      "nbconvert_exporter": "python",
      "pygments_lexer": "ipython3",
      "version": "3.7.4"
    },
    "colab": {
      "name": "my_task.ipynb",
      "provenance": [],
      "collapsed_sections": []
    }
  },
  "cells": [
    {
      "cell_type": "markdown",
      "metadata": {
        "id": "69X3r3BxZ-mN",
        "colab_type": "text"
      },
      "source": [
        "### **Write a python program to add three numbers, however if two numbers are zero then the result will be zero.**"
      ]
    },
    {
      "cell_type": "code",
      "metadata": {
        "id": "sID6dKGXQE5Z",
        "colab_type": "code",
        "outputId": "07a915c8-e639-495e-e8ba-1d22739a6cbe",
        "colab": {
          "base_uri": "https://localhost:8080/",
          "height": 51
        }
      },
      "source": [
        "i=[int(i) for i in input(\"Enter three numbers: \").split()]\n",
        "if(len(i)!=len(set(i))):\n",
        "    print(\"Addition Result= 0\")\n",
        "else:\n",
        "    l=0\n",
        "    for j in range(0,len(i)):\n",
        "        l=l+i[j]\n",
        "    print(\"Addition Result:\",l)"
      ],
      "execution_count": 1,
      "outputs": [
        {
          "output_type": "stream",
          "text": [
            "Enter three numbers: 12 6 2\n",
            "Addition Result: 20\n"
          ],
          "name": "stdout"
        }
      ]
    },
    {
      "cell_type": "markdown",
      "metadata": {
        "id": "NlSMbqQua3Dv",
        "colab_type": "text"
      },
      "source": [
        "### **Create a function to check whether one number is divisible by another number or not.**"
      ]
    },
    {
      "cell_type": "code",
      "metadata": {
        "id": "Z4sW_k5HQE6C",
        "colab_type": "code",
        "outputId": "72499b51-c818-4877-f7c2-c292fdd489e9",
        "colab": {
          "base_uri": "https://localhost:8080/",
          "height": 51
        }
      },
      "source": [
        "def my_div(m,n):\n",
        "    if(m%n==0):\n",
        "        print(\"Divisible\")\n",
        "    else:\n",
        "        print(\"Not Divisible\")\n",
        "i,j=input(\"Enter Two numbers: \").split()\n",
        "my_div(int(i),int(j))"
      ],
      "execution_count": 3,
      "outputs": [
        {
          "output_type": "stream",
          "text": [
            "Enter Two numbers: 22 3\n",
            "Not Divisible\n"
          ],
          "name": "stdout"
        }
      ]
    },
    {
      "cell_type": "markdown",
      "metadata": {
        "id": "StwVyN5bbZ7A",
        "colab_type": "text"
      },
      "source": [
        "### **Write a program to convert 1 to True and 0 to False.**"
      ]
    },
    {
      "cell_type": "code",
      "metadata": {
        "id": "VyFytmclQE7Q",
        "colab_type": "code",
        "outputId": "37d7c9aa-b9cc-44de-c499-c460b3151995",
        "colab": {
          "base_uri": "https://localhost:8080/",
          "height": 34
        }
      },
      "source": [
        "x=False\n",
        "if x==True:\n",
        "    print(1)\n",
        "elif x==False:\n",
        "    print(0)"
      ],
      "execution_count": 4,
      "outputs": [
        {
          "output_type": "stream",
          "text": [
            "0\n"
          ],
          "name": "stdout"
        }
      ]
    },
    {
      "cell_type": "markdown",
      "metadata": {
        "id": "XwbddqkMb_UX",
        "colab_type": "text"
      },
      "source": [
        "### **Write a python program to extract a single Key value pair from a Dictionary.**"
      ]
    },
    {
      "cell_type": "code",
      "metadata": {
        "id": "DqvDnhYDQE7n",
        "colab_type": "code",
        "outputId": "d98f9d94-002f-4ab1-ec90-bbba593621e6",
        "colab": {
          "base_uri": "https://localhost:8080/",
          "height": 104
        }
      },
      "source": [
        "import random\n",
        "i=[i for i in input(\"Enter names: \").split()]\n",
        "dict={}\n",
        "for j in range(0,len(i)):\n",
        "    dict[i[j]]=random.randint(18,25)\n",
        "print(\"Before deletion: \",dict)\n",
        "k=dict.keys()\n",
        "print(k)\n",
        "s=input(\"Enter the name to be deleted: \")\n",
        "del dict[s]\n",
        "print(\"After deletion: \",dict)"
      ],
      "execution_count": 0,
      "outputs": [
        {
          "output_type": "stream",
          "text": [
            "Enter names: Himanshu Sharan Arvind\n",
            "Before deletion:  {'Himanshu': 22, 'Sharan': 23, 'Arvind': 23}\n",
            "dict_keys(['Himanshu', 'Sharan', 'Arvind'])\n",
            "Enter the name to be deleted: Sharan\n",
            "After deletion:  {'Himanshu': 22, 'Arvind': 23}\n"
          ],
          "name": "stdout"
        }
      ]
    },
    {
      "cell_type": "markdown",
      "metadata": {
        "id": "bauFt5Xecfjc",
        "colab_type": "text"
      },
      "source": [
        "### **Write a python to check whether lower case letter exists in string or not.**"
      ]
    },
    {
      "cell_type": "code",
      "metadata": {
        "id": "L-tQHUxWQE72",
        "colab_type": "code",
        "outputId": "52f1fe44-6a70-4623-9e5f-f728c4246fff",
        "colab": {
          "base_uri": "https://localhost:8080/",
          "height": 87
        }
      },
      "source": [
        "st=input(\"Enter any String: \")\n",
        "print(\"Your entered string is: \",st)\n",
        "c=0\n",
        "for i in st:\n",
        "    if(i.islower()):\n",
        "        c=c+1\n",
        "if (c>0):\n",
        "    print(\"The string contain lower case letters\")\n",
        "    print(\"The number of lower case letters are: \",c)\n",
        "elif(c==0):\n",
        "    print(\"Contains only Higher case letteers\")"
      ],
      "execution_count": 0,
      "outputs": [
        {
          "output_type": "stream",
          "text": [
            "Enter any String: Himanshu\n",
            "Your entered string is:  Himanshu\n",
            "The string contain lower case letters\n",
            "The number of lower case letters are:  7\n"
          ],
          "name": "stdout"
        }
      ]
    },
    {
      "cell_type": "markdown",
      "metadata": {
        "id": "xSGQHbyWc4dW",
        "colab_type": "text"
      },
      "source": [
        "### **Write a program to take input any integer but if it is not an integer then generate an error message.**"
      ]
    },
    {
      "cell_type": "code",
      "metadata": {
        "id": "Plk-26wuQE8F",
        "colab_type": "code",
        "outputId": "6defbc23-9ecb-478f-8bbd-3c5747dcadb4",
        "colab": {
          "base_uri": "https://localhost:8080/",
          "height": 69
        }
      },
      "source": [
        "try:\n",
        "    i=input(\"Enter any number: \")\n",
        "    k=int(i)\n",
        "except:\n",
        "    print(\"The input must be numeric!!\")\n",
        "finally:\n",
        "    print(\"You Entered:\",i)"
      ],
      "execution_count": 0,
      "outputs": [
        {
          "output_type": "stream",
          "text": [
            "Enter any number: were\n",
            "The input must be numeric!!\n",
            "You Entered: were\n"
          ],
          "name": "stdout"
        }
      ]
    },
    {
      "cell_type": "code",
      "metadata": {
        "id": "ozTQAZO5QE8V",
        "colab_type": "code",
        "colab": {}
      },
      "source": [
        ""
      ],
      "execution_count": 0,
      "outputs": []
    }
  ]
}