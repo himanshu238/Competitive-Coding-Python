{
 "cells": [
  {
   "cell_type": "markdown",
   "metadata": {},
   "source": [
    "### **Create a function to calculate the profit margin the cost price and selling price will be provided.**"
   ]
  },
  {
   "cell_type": "code",
   "execution_count": 1,
   "metadata": {},
   "outputs": [
    {
     "name": "stdout",
     "output_type": "stream",
     "text": [
      "Enter number: 28\n",
      "Enter number: 31\n",
      "9.68\n"
     ]
    }
   ],
   "source": [
    "def cal_pro(m,n):\n",
    "    k=((n-m)/n)*100\n",
    "    print(round(k,2))\n",
    "i=float(input('Enter number: '))\n",
    "j=float(input('Enter number: '))\n",
    "cal_pro(i,j)"
   ]
  },
  {
   "cell_type": "markdown",
   "metadata": {},
   "source": [
    "### **Write a function that returns the longest sequence of consecutive zeros in a binary string.**"
   ]
  },
  {
   "cell_type": "code",
   "execution_count": 3,
   "metadata": {},
   "outputs": [
    {
     "name": "stdout",
     "output_type": "stream",
     "text": [
      "Enter binary string: 10010000100010\n",
      "0000\n"
     ]
    }
   ],
   "source": [
    "def long_func(n):\n",
    "    l=''\n",
    "    k=max(map(len,n.split('1')))\n",
    "    for i in range(0,k):\n",
    "        l+='0'\n",
    "    print(l)\n",
    "i=input('Enter binary string: ')\n",
    "long_func(i)"
   ]
  },
  {
   "cell_type": "markdown",
   "metadata": {},
   "source": [
    "### **Create a function that takes a word and return True if the word has two consecutive same letters.**"
   ]
  },
  {
   "cell_type": "code",
   "execution_count": 8,
   "metadata": {},
   "outputs": [
    {
     "name": "stdout",
     "output_type": "stream",
     "text": [
      "Enter string: loop\n",
      "True\n"
     ]
    }
   ],
   "source": [
    "def same_letter(n):\n",
    "    k=0\n",
    "    for i in range(len(n)-1):\n",
    "        if n[i].lower==n[i+1].lower:\n",
    "            print(True)\n",
    "            k=1\n",
    "    if k==0:\n",
    "        print(False)\n",
    "i=input('Enter string: ')\n",
    "same_letter(i)        "
   ]
  }
 ],
 "metadata": {
  "kernelspec": {
   "display_name": "Python 3",
   "language": "python",
   "name": "python3"
  },
  "language_info": {
   "codemirror_mode": {
    "name": "ipython",
    "version": 3
   },
   "file_extension": ".py",
   "mimetype": "text/x-python",
   "name": "python",
   "nbconvert_exporter": "python",
   "pygments_lexer": "ipython3",
   "version": "3.7.4"
  }
 },
 "nbformat": 4,
 "nbformat_minor": 2
}
