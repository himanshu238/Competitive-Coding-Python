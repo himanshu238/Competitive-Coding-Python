{
 "cells": [
  {
   "cell_type": "markdown",
   "metadata": {},
   "source": [
    "### 1.Create a function for the following condition."
   ]
  },
  {
   "cell_type": "markdown",
   "metadata": {},
   "source": [
    "check_prime(9317)"
   ]
  },
  {
   "cell_type": "markdown",
   "metadata": {},
   "source": [
    "Result: (9317,317,17,7) are prime."
   ]
  },
  {
   "cell_type": "code",
   "execution_count": 44,
   "metadata": {},
   "outputs": [
    {
     "name": "stdout",
     "output_type": "stream",
     "text": [
      "Enter number: 9317\n",
      "[317, 17, 7] is prime\n",
      "[9317] is not prime\n"
     ]
    }
   ],
   "source": [
    "def max_prime(n):\n",
    "    for i in range(2,n):\n",
    "        if n%i==0:\n",
    "            return False,n\n",
    "    return True,n\n",
    "i=input('Enter number: ')\n",
    "a=len(i)\n",
    "i=int(i)\n",
    "k=0\n",
    "n=0\n",
    "x=1\n",
    "l=[]\n",
    "m=[]\n",
    "for q in range(a):\n",
    "    x=x*10\n",
    "for q in range(a):\n",
    "    s=i%x\n",
    "    flag,num=max_prime(s)\n",
    "    if flag==True:\n",
    "        l.append(num)\n",
    "        k=1\n",
    "    else:\n",
    "        n=1\n",
    "        m.append(num)\n",
    "    x=x/10\n",
    "    x=int(x)\n",
    "if k==1:\n",
    "    print(l,'is prime')\n",
    "if n==1:\n",
    "    print(m,'is not prime')"
   ]
  },
  {
   "cell_type": "markdown",
   "metadata": {},
   "source": [
    "###  2.WAP to convert 12 hours format to 24 hours format also take the input dd/mm/yyyy as input and find the remaining hours."
   ]
  },
  {
   "cell_type": "code",
   "execution_count": 51,
   "metadata": {},
   "outputs": [
    {
     "name": "stdout",
     "output_type": "stream",
     "text": [
      "Enter time in 12 hours format: 8.26 pm\n",
      "In 24 hours format 20.26\n"
     ]
    }
   ],
   "source": [
    "def convert(n):\n",
    "    n[0]=float(n[0])\n",
    "    n[1]=n[1].lower()\n",
    "    if n[1]=='pm':\n",
    "        n[0]=n[0]+12\n",
    "    print('In 24 hours format',round(n[0],2))\n",
    "i=[i for i in input('Enter time in 12 hours format: ').split()]\n",
    "convert(i)\n",
    "# Sample input will be in format 'time AMorPm'"
   ]
  },
  {
   "cell_type": "code",
   "execution_count": 55,
   "metadata": {},
   "outputs": [
    {
     "name": "stdout",
     "output_type": "stream",
     "text": [
      "Enter date (dd/mm/yyyy): 12/10/2019\n",
      "2019-10-12 00:00:00\n",
      "79 days, 0:00:00\n"
     ]
    }
   ],
   "source": [
    "# Remaining days in a year\n",
    "from datetime import datetime\n",
    "i=[int(i) for i in input('Enter date (dd/mm/yyyy): ').split('/')]\n",
    "a=datetime(i[2],i[1],i[0])\n",
    "print(a)\n",
    "b=datetime(i[2],12,30)\n",
    "print(b-a)"
   ]
  },
  {
   "cell_type": "markdown",
   "metadata": {},
   "source": [
    "### 3. There are n soldiers arranged in a circle. Every ith soldier  is to be killed and the last remaining soldiers is to be left alive.Assuming that you want to live deccide the best position yor yourself."
   ]
  },
  {
   "cell_type": "code",
   "execution_count": 57,
   "metadata": {},
   "outputs": [
    {
     "name": "stdout",
     "output_type": "stream",
     "text": [
      "Enter the number of soldiers: 41\n",
      "Enter the position to kill: 3\n",
      "Position your you to live is 31\n"
     ]
    }
   ],
   "source": [
    "def free(n,i):\n",
    "    l=[]\n",
    "    for x in range(1,n+1):\n",
    "        l.append(x)\n",
    "    count=0\n",
    "    s_count=n\n",
    "    while True:\n",
    "        count=(count+i-1)%len(l)\n",
    "        l.pop(count)\n",
    "        s_count-=1\n",
    "        if s_count==1:\n",
    "            break\n",
    "    return(l[0])\n",
    "n=int(input('Enter the number of soldiers: '))\n",
    "i=int(input('Enter the position to kill: '))\n",
    "sol=free(n,i)\n",
    "print('Position your you to live is',sol)"
   ]
  }
 ],
 "metadata": {
  "kernelspec": {
   "display_name": "Python 3",
   "language": "python",
   "name": "python3"
  },
  "language_info": {
   "codemirror_mode": {
    "name": "ipython",
    "version": 3
   },
   "file_extension": ".py",
   "mimetype": "text/x-python",
   "name": "python",
   "nbconvert_exporter": "python",
   "pygments_lexer": "ipython3",
   "version": "3.7.4"
  }
 },
 "nbformat": 4,
 "nbformat_minor": 2
}
