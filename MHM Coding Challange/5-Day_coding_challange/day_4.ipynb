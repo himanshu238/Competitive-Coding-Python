{
 "cells": [
  {
   "cell_type": "markdown",
   "metadata": {},
   "source": [
    "### 1. Create a function to print a even length words in a string."
   ]
  },
  {
   "cell_type": "code",
   "execution_count": 9,
   "metadata": {},
   "outputs": [
    {
     "name": "stdout",
     "output_type": "stream",
     "text": [
      "Enter String: try and work on pythonista\n",
      "Result:  ['work', 'on', 'pythonista']\n"
     ]
    }
   ],
   "source": [
    "def even_len(s):\n",
    "    k=[]\n",
    "    for i in s:\n",
    "        if len(i)%2==0:\n",
    "            k.append(i)\n",
    "    print('Result: ',k)\n",
    "i=[i for i in input('Enter String: ').split()]\n",
    "even_len(i)"
   ]
  },
  {
   "cell_type": "markdown",
   "metadata": {},
   "source": [
    "### 2.WAP to input a string and convert each ASCII character in HEX number and store it in tuple."
   ]
  },
  {
   "cell_type": "code",
   "execution_count": 22,
   "metadata": {},
   "outputs": [
    {
     "name": "stdout",
     "output_type": "stream",
     "text": [
      "Enter any string: ASCII\n",
      "The result is : ('0x41', '0x53', '0x43', '0x49', '0x49')\n"
     ]
    }
   ],
   "source": [
    "i=input('Enter any string: ')\n",
    "l=[]\n",
    "for j in i:\n",
    "    l.append(hex(ord(j)))\n",
    "l=tuple(l)\n",
    "print('The result is :',l)"
   ]
  },
  {
   "cell_type": "markdown",
   "metadata": {},
   "source": [
    "### 3.WAP to create a new number by adding the sum of cube of digits of the number."
   ]
  },
  {
   "cell_type": "markdown",
   "metadata": {},
   "source": [
    "Condition:WE have to do thois for five times."
   ]
  },
  {
   "cell_type": "code",
   "execution_count": 64,
   "metadata": {},
   "outputs": [
    {
     "name": "stdout",
     "output_type": "stream",
     "text": [
      "Enter number: 405\n",
      "Result: 153\n"
     ]
    }
   ],
   "source": [
    "def seperate(n):\n",
    "    tot=0\n",
    "    while(n>0):\n",
    "        m=n%10\n",
    "        n=n/10\n",
    "        n=int(n)\n",
    "        tot=tot+m**3\n",
    "    return(tot)\n",
    "i=int(input('Enter number: '))\n",
    "for j in range(5):\n",
    "    i=seperate(i)\n",
    "print('Result:',i)"
   ]
  }
 ],
 "metadata": {
  "kernelspec": {
   "display_name": "Python 3",
   "language": "python",
   "name": "python3"
  },
  "language_info": {
   "codemirror_mode": {
    "name": "ipython",
    "version": 3
   },
   "file_extension": ".py",
   "mimetype": "text/x-python",
   "name": "python",
   "nbconvert_exporter": "python",
   "pygments_lexer": "ipython3",
   "version": "3.7.4"
  }
 },
 "nbformat": 4,
 "nbformat_minor": 2
}
