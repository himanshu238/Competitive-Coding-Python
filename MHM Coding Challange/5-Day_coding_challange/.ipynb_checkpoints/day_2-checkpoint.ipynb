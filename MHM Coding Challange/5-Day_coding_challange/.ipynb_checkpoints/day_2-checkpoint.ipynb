{
 "cells": [
  {
   "cell_type": "markdown",
   "metadata": {},
   "source": [
    "### Create function for the following condition"
   ]
  },
  {
   "cell_type": "markdown",
   "metadata": {},
   "source": [
    "The sum of the square of the two smaller number is equal to the square of the largest number."
   ]
  },
  {
   "cell_type": "code",
   "execution_count": 2,
   "metadata": {},
   "outputs": [
    {
     "name": "stdout",
     "output_type": "stream",
     "text": [
      "Enter three number: 3 5 4\n",
      "True\n"
     ]
    }
   ],
   "source": [
    "i=[int(i) for i in input('Enter three number: ').split()]\n",
    "i.sort()\n",
    "l=i[-1]\n",
    "j=i[0]\n",
    "k=i[1]\n",
    "if j**2+k**2==l**2:\n",
    "    print(True)\n",
    "else:\n",
    "    print(False)\n",
    "#sample input 3 5 4 (pythagoras triplets)"
   ]
  },
  {
   "cell_type": "markdown",
   "metadata": {},
   "source": [
    "### 2.WAP for pascals triangle."
   ]
  },
  {
   "cell_type": "code",
   "execution_count": 6,
   "metadata": {},
   "outputs": [
    {
     "name": "stdout",
     "output_type": "stream",
     "text": [
      "Enter the number of rows: 5\n",
      "       1\n",
      "      1  1\n",
      "     1  2  1\n",
      "    1  3  3  1\n",
      "   1  4  6  4  1\n"
     ]
    }
   ],
   "source": [
    "c=int(input('Enter the number of rows: '))\n",
    "for i in range(0,c):\n",
    "    l=1\n",
    "    for j in range(0,c-i):\n",
    "        print(' ',end='')\n",
    "    for k in range(0,i+1):\n",
    "        print(' ',l,end='')\n",
    "        l=int(l*(i-k)/(k+1))\n",
    "    print()#change the line after each row is printed"
   ]
  },
  {
   "cell_type": "markdown",
   "metadata": {},
   "source": [
    "### 3.WAP which takes sentence from user and gives the following ouput when caps lock appear in the sentence."
   ]
  },
  {
   "cell_type": "markdown",
   "metadata": {},
   "source": [
    "Example:"
   ]
  },
  {
   "cell_type": "markdown",
   "metadata": {},
   "source": [
    "str='Welcome, Caps Lock mhm is the best Caps Lock it institute'"
   ]
  },
  {
   "cell_type": "markdown",
   "metadata": {},
   "source": [
    "Output: 'Welcome, MHM is the best IT institute'"
   ]
  },
  {
   "cell_type": "code",
   "execution_count": 9,
   "metadata": {},
   "outputs": [
    {
     "name": "stdout",
     "output_type": "stream",
     "text": [
      "Enter String: Welcome, Caps Lock mhm is the best Caps Lock it institute\n",
      "Result:  Welcome MHM is the best IT institute\n"
     ]
    }
   ],
   "source": [
    "string=[i for i in input('Enter String: ').split()]\n",
    "str=''\n",
    "for j in range(0,len(string)):\n",
    "    string[j]=string[j].strip('.,')\n",
    "    string[j]=string[j].strip('..')\n",
    "    if string[j].lower()=='caps' and string[j+1].lower()=='lock':\n",
    "        str=str+' '\n",
    "        str=str +string[j+2].upper()\n",
    "        k=string[j+2].lower()\n",
    "    elif string[j].lower()=='caps':\n",
    "        continue\n",
    "    elif string[j].lower()=='lock':\n",
    "        continue\n",
    "    elif string[j]==k:\n",
    "        continue\n",
    "    else:\n",
    "        str=str+' '\n",
    "        str=str+string[j]\n",
    "print('Result:',str)"
   ]
  },
  {
   "cell_type": "code",
   "execution_count": null,
   "metadata": {},
   "outputs": [],
   "source": []
  }
 ],
 "metadata": {
  "kernelspec": {
   "display_name": "Python 3",
   "language": "python",
   "name": "python3"
  },
  "language_info": {
   "codemirror_mode": {
    "name": "ipython",
    "version": 3
   },
   "file_extension": ".py",
   "mimetype": "text/x-python",
   "name": "python",
   "nbconvert_exporter": "python",
   "pygments_lexer": "ipython3",
   "version": "3.7.4"
  }
 },
 "nbformat": 4,
 "nbformat_minor": 2
}
