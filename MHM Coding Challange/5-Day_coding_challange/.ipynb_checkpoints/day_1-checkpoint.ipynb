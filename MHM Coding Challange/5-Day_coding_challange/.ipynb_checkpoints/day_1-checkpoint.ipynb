{
 "cells": [
  {
   "cell_type": "markdown",
   "metadata": {},
   "source": [
    "### 1.Create a function that determines the number of partitions of a number."
   ]
  },
  {
   "cell_type": "markdown",
   "metadata": {},
   "source": [
    "Example:\n",
    "    n=3\n",
    "Then:\n",
    "    1+1+1=3,\n",
    "    2+1=3,\n",
    "    3=3"
   ]
  },
  {
   "cell_type": "code",
   "execution_count": 6,
   "metadata": {},
   "outputs": [
    {
     "name": "stdout",
     "output_type": "stream",
     "text": [
      "Enter number: 4\n",
      "(1, 1, 1, 1) = 4\n",
      "(1, 1, 2) = 4\n",
      "(1, 3) = 4\n",
      "(2, 2) = 4\n",
      "(4,) = 4\n"
     ]
    }
   ],
   "source": [
    "def dice(num):\n",
    "    res=set()\n",
    "    res.add((num,))\n",
    "    for i in range(1,num):\n",
    "        for j in dice(num-i):\n",
    "            res.add(tuple(sorted((i,)+j)))\n",
    "    return(res)\n",
    "n=int(input('Enter number: '))\n",
    "k=dice(n)\n",
    "k=list(k)\n",
    "k.sort()\n",
    "for i in k:\n",
    "    print(i,'=',n)"
   ]
  },
  {
   "cell_type": "markdown",
   "metadata": {},
   "source": [
    "### 2. Create a function called count_price() that counts the number of times the word 'price' occours in a string."
   ]
  },
  {
   "cell_type": "markdown",
   "metadata": {},
   "source": [
    "Ex: 'Wow that is a nice price,very nice price! Really nice price I said Price 4 times'"
   ]
  },
  {
   "cell_type": "markdown",
   "metadata": {},
   "source": [
    "The result is 4"
   ]
  },
  {
   "cell_type": "code",
   "execution_count": 7,
   "metadata": {},
   "outputs": [
    {
     "name": "stdout",
     "output_type": "stream",
     "text": [
      "Enter any string: pricE. Price, pricE!\n",
      "Result: 3\n"
     ]
    }
   ],
   "source": [
    "def strr(i):\n",
    "    r=[]\n",
    "    c=0\n",
    "    for j in i:\n",
    "        j=j.lower()\n",
    "        j=j.strip('..')\n",
    "        j=j.strip('.,')\n",
    "        j=j.strip('.!')\n",
    "        r.append(j)\n",
    "    for i in r:\n",
    "        if i=='price':\n",
    "            c=c+1\n",
    "    print('Result:',c)\n",
    "i=[i for i in input('Enter any string: ').split()] \n",
    "strr(i)"
   ]
  }
 ],
 "metadata": {
  "kernelspec": {
   "display_name": "Python 3",
   "language": "python",
   "name": "python3"
  },
  "language_info": {
   "codemirror_mode": {
    "name": "ipython",
    "version": 3
   },
   "file_extension": ".py",
   "mimetype": "text/x-python",
   "name": "python",
   "nbconvert_exporter": "python",
   "pygments_lexer": "ipython3",
   "version": "3.7.4"
  }
 },
 "nbformat": 4,
 "nbformat_minor": 2
}
