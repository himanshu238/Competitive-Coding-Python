{
 "cells": [
  {
   "cell_type": "markdown",
   "metadata": {},
   "source": [
    "### 1.Create a function which return true or false for string taken form user for following condition."
   ]
  },
  {
   "cell_type": "markdown",
   "metadata": {},
   "source": [
    "Condition: String should have alternate vowels and should not start or end with vowels.\n"
   ]
  },
  {
   "cell_type": "markdown",
   "metadata": {},
   "source": [
    "Ex: 1.BANANAS - True     2.AXE - False"
   ]
  },
  {
   "cell_type": "code",
   "execution_count": 50,
   "metadata": {},
   "outputs": [
    {
     "name": "stdout",
     "output_type": "stream",
     "text": [
      "Enter any string: BANANAS\n",
      "BANANAS = True\n"
     ]
    }
   ],
   "source": [
    "i=input('Enter any string: ')\n",
    "j=i.lower()\n",
    "c=0\n",
    "if j[0]==('a' or 'e' or 'i' or 'o' or 'u'):\n",
    "    c=1\n",
    "elif j[1]!=('a' or 'e' or 'i' or 'o' or 'u'):\n",
    "    c=1\n",
    "if c==1:\n",
    "    print(i,'=',False)\n",
    "else:\n",
    "    for f in range(1,len(j),2):\n",
    "        if j[f]!=('a' or 'e' or 'i' or 'o' or 'u'):\n",
    "            c=1\n",
    "    if c==1:\n",
    "        print(i,'=',False)\n",
    "    else:\n",
    "        print(i,'=',True)"
   ]
  },
  {
   "cell_type": "markdown",
   "metadata": {},
   "source": [
    "### 2.WAP  to add two fractional binary numbers. "
   ]
  },
  {
   "cell_type": "markdown",
   "metadata": {},
   "source": [
    "Optional: Try taking input form user."
   ]
  },
  {
   "cell_type": "code",
   "execution_count": 51,
   "metadata": {},
   "outputs": [
    {
     "name": "stdout",
     "output_type": "stream",
     "text": [
      "Enter first number: 11.1111\n",
      "Enter second number: 100.111\n",
      "0b111 . 0b10110\n"
     ]
    }
   ],
   "source": [
    "i=input('Enter first number: ')\n",
    "j=input('Enter second number: ')\n",
    "k=[]\n",
    "l=i.split('.')\n",
    "m=j.split('.')\n",
    "c=bin(int(l[0],2)+int(m[0],2))\n",
    "d=bin(int(l[1],2)+int(m[1],2))\n",
    "print(c,'.',d)"
   ]
  },
  {
   "cell_type": "markdown",
   "metadata": {},
   "source": [
    "### 3.Numbers to words."
   ]
  },
  {
   "cell_type": "code",
   "execution_count": 66,
   "metadata": {},
   "outputs": [
    {
     "name": "stdout",
     "output_type": "stream",
     "text": [
      "Help on package num2words:\n",
      "\n",
      "NAME\n",
      "    num2words\n",
      "\n",
      "DESCRIPTION\n",
      "    # -*- coding: utf-8 -*-\n",
      "    # Copyright (c) 2003, Taro Ogawa.  All Rights Reserved.\n",
      "    # Copyright (c) 2013, Savoir-faire Linux inc.  All Rights Reserved.\n",
      "\n",
      "PACKAGE CONTENTS\n",
      "    base\n",
      "    compat\n",
      "    currency\n",
      "    lang_AR\n",
      "    lang_CZ\n",
      "    lang_DE\n",
      "    lang_DK\n",
      "    lang_EN\n",
      "    lang_EN_IN\n",
      "    lang_ES\n",
      "    lang_ES_CO\n",
      "    lang_ES_VE\n",
      "    lang_EU\n",
      "    lang_FI\n",
      "    lang_FR\n",
      "    lang_FR_BE\n",
      "    lang_FR_CH\n",
      "    lang_FR_DZ\n",
      "    lang_HE\n",
      "    lang_ID\n",
      "    lang_IT\n",
      "    lang_JA\n",
      "    lang_KN\n",
      "    lang_KO\n",
      "    lang_LT\n",
      "    lang_LV\n",
      "    lang_NL\n",
      "    lang_NO\n",
      "    lang_PL\n",
      "    lang_PT\n",
      "    lang_PT_BR\n",
      "    lang_RO\n",
      "    lang_RU\n",
      "    lang_SL\n",
      "    lang_SR\n",
      "    lang_TH\n",
      "    lang_TR\n",
      "    lang_UK\n",
      "    lang_VI\n",
      "    lang_VN\n",
      "    utils\n",
      "\n",
      "FUNCTIONS\n",
      "    num2words(number, ordinal=False, lang='en', to='cardinal', **kwargs)\n",
      "\n",
      "DATA\n",
      "    CONVERTER_CLASSES = {'ar': <num2words.lang_AR.Num2Word_AR object>, 'cz...\n",
      "    CONVERTES_TYPES = ['cardinal', 'ordinal', 'ordinal_num', 'year', 'curr...\n",
      "    unicode_literals = _Feature((2, 6, 0, 'alpha', 2), (3, 0, 0, 'alpha', ...\n",
      "\n",
      "FILE\n",
      "    c:\\users\\rover\\anaconda\\lib\\site-packages\\num2words\\__init__.py\n",
      "\n",
      "\n"
     ]
    }
   ],
   "source": [
    "help(num2words)# pip install num2words"
   ]
  },
  {
   "cell_type": "code",
   "execution_count": 63,
   "metadata": {},
   "outputs": [],
   "source": [
    "import num2words"
   ]
  },
  {
   "cell_type": "code",
   "execution_count": 65,
   "metadata": {},
   "outputs": [
    {
     "name": "stdout",
     "output_type": "stream",
     "text": [
      "Enter number: 5557\n",
      "five thousand, five hundred and fifty-seven\n"
     ]
    }
   ],
   "source": [
    "i=int(input('Enter number: '))\n",
    "print(num2words.num2words(i))"
   ]
  }
 ],
 "metadata": {
  "kernelspec": {
   "display_name": "Python 3",
   "language": "python",
   "name": "python3"
  },
  "language_info": {
   "codemirror_mode": {
    "name": "ipython",
    "version": 3
   },
   "file_extension": ".py",
   "mimetype": "text/x-python",
   "name": "python",
   "nbconvert_exporter": "python",
   "pygments_lexer": "ipython3",
   "version": "3.7.4"
  }
 },
 "nbformat": 4,
 "nbformat_minor": 2
}
