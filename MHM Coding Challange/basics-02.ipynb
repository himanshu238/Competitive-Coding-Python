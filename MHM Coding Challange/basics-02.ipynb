{
  "nbformat": 4,
  "nbformat_minor": 0,
  "metadata": {
    "kernelspec": {
      "display_name": "Python 3",
      "language": "python",
      "name": "python3"
    },
    "language_info": {
      "codemirror_mode": {
        "name": "ipython",
        "version": 3
      },
      "file_extension": ".py",
      "mimetype": "text/x-python",
      "name": "python",
      "nbconvert_exporter": "python",
      "pygments_lexer": "ipython3",
      "version": "3.7.4"
    },
    "colab": {
      "name": "My_task2.ipynb",
      "provenance": [],
      "collapsed_sections": []
    }
  },
  "cells": [
    {
      "cell_type": "markdown",
      "metadata": {
        "id": "K7xWqnuqfJK5",
        "colab_type": "text"
      },
      "source": [
        "### **Write a program that takes input a list and return a new list without any duplicates.**"
      ]
    },
    {
      "cell_type": "code",
      "metadata": {
        "id": "aQcCy0twfDWM",
        "colab_type": "code",
        "colab": {},
        "outputId": "9bd804ed-6982-45e4-bbc2-2a515b1811e5"
      },
      "source": [
        "i=[int(i) for i in input(\"Enter the conents of list: \").split()]\n",
        "j=list(set(i))\n",
        "print(\"After removing the duplicate contents: \",j)"
      ],
      "execution_count": 0,
      "outputs": [
        {
          "output_type": "stream",
          "text": [
            "Enter the conents of list:  1 2 3 1 2 5\n"
          ],
          "name": "stdin"
        },
        {
          "output_type": "stream",
          "text": [
            "After removing the duplicate contents:  [1, 2, 3, 5]\n"
          ],
          "name": "stdout"
        }
      ]
    },
    {
      "cell_type": "markdown",
      "metadata": {
        "id": "5Jhh75jsfgDN",
        "colab_type": "text"
      },
      "source": [
        "### **Write a program to take input from user in hours and minutes and convert it into Seconds.**"
      ]
    },
    {
      "cell_type": "code",
      "metadata": {
        "id": "h3_Tzoh8fDWi",
        "colab_type": "code",
        "colab": {},
        "outputId": "bae2af54-b3d2-4a38-8ce3-50288168297b"
      },
      "source": [
        "i=float(input(\"Enter time in hours: \"))\n",
        "j=float(input(\"Enter time in minutes: \"))\n",
        "t1=i*60*60\n",
        "t2=j*60\n",
        "print(\"Hours to seconds:\",t1,\"\\nMinutes to seconds:\",t2)"
      ],
      "execution_count": 0,
      "outputs": [
        {
          "output_type": "stream",
          "text": [
            "Enter time in hours:  1\n",
            "Enter time in minutes:  2\n"
          ],
          "name": "stdin"
        },
        {
          "output_type": "stream",
          "text": [
            "Hours to seconds: 3600.0 \n",
            "Minutes to seconds: 120.0\n"
          ],
          "name": "stdout"
        }
      ]
    },
    {
      "cell_type": "markdown",
      "metadata": {
        "id": "YKTvZ_hpf3X5",
        "colab_type": "text"
      },
      "source": [
        "### **Write a program that find the number of Vowels and Consonants in a string.**"
      ]
    },
    {
      "cell_type": "code",
      "metadata": {
        "id": "rvibQrvJfDWt",
        "colab_type": "code",
        "colab": {},
        "outputId": "47fe8aa8-744b-463c-b9d8-300a95fe30ed"
      },
      "source": [
        "i=input(\"Enter any srting: \")\n",
        "c=0\n",
        "for j in i:\n",
        "    if(j=='a' or j=='e' or j=='i' or j=='o'or j=='u'):\n",
        "        c=c+1\n",
        "    if(j=='A' or j=='E' or j=='I' or j=='O' or j=='U'):\n",
        "        c=c+1\n",
        "k=len(i)-c\n",
        "print(\"Number of vowels:\",c,\"Number of consonants:\",k)"
      ],
      "execution_count": 0,
      "outputs": [
        {
          "output_type": "stream",
          "text": [
            "Enter any srting:  HImanshu\n"
          ],
          "name": "stdin"
        },
        {
          "output_type": "stream",
          "text": [
            "Number of vowels: 3 Number of consonants: 5\n"
          ],
          "name": "stdout"
        }
      ]
    },
    {
      "cell_type": "markdown",
      "metadata": {
        "id": "xNoLc0qrgIi-",
        "colab_type": "text"
      },
      "source": [
        "### **Write a program that finds the missing number between 1 to 10. Note:only one missing number.**"
      ]
    },
    {
      "cell_type": "code",
      "metadata": {
        "id": "UeI-ppHZfDW5",
        "colab_type": "code",
        "colab": {
          "base_uri": "https://localhost:8080/",
          "height": 51
        },
        "outputId": "9bd6dba5-8280-4981-ce4f-6e8815858501"
      },
      "source": [
        "i=[int(i) for i in input(\"Enter the list of number: \").split()]\n",
        "i.sort()\n",
        "n=len(i)+1\n",
        "sum=(n*(n+1))/2\n",
        "for j in i:\n",
        "    sum=sum-j\n",
        "print(int(sum))"
      ],
      "execution_count": 1,
      "outputs": [
        {
          "output_type": "stream",
          "text": [
            "Enter the list of number: 1 2 3 4 5 7 8 9 10\n",
            "6\n"
          ],
          "name": "stdout"
        }
      ]
    },
    {
      "cell_type": "code",
      "metadata": {
        "id": "2r7Ih4mTfDXF",
        "colab_type": "code",
        "colab": {}
      },
      "source": [
        ""
      ],
      "execution_count": 0,
      "outputs": []
    }
  ]
}